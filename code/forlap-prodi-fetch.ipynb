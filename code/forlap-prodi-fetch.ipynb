{
 "cells": [
  {
   "cell_type": "code",
   "execution_count": null,
   "metadata": {
    "collapsed": true
   },
   "outputs": [],
   "source": [
    "import requests\n",
    "from bs4 import BeautifulSoup\n",
    "import pandas as pd"
   ]
  },
  {
   "cell_type": "code",
   "execution_count": null,
   "metadata": {
    "collapsed": true
   },
   "outputs": [],
   "source": [
    "df = pd.read_csv(\"forlapbase.csv\")"
   ]
  },
  {
   "cell_type": "markdown",
   "metadata": {},
   "source": [
    "### Program"
   ]
  },
  {
   "cell_type": "code",
   "execution_count": null,
   "metadata": {
    "collapsed": true
   },
   "outputs": [],
   "source": [
    "urllist = df2.url.tolist()[0:251]"
   ]
  },
  {
   "cell_type": "code",
   "execution_count": null,
   "metadata": {
    "collapsed": false
   },
   "outputs": [],
   "source": [
    "arr = []\n",
    "for k,url in enumerate(urllist):\n",
    "    #print(url)\n",
    "    if (k % 10 == 0):\n",
    "        print(\"Progress: \"+k+\" universities\")\n",
    "    r = requests.get(url)\n",
    "    soup = BeautifulSoup(r.content)\n",
    "    td = []\n",
    "    for a in soup.find_all(\"td\"):\n",
    "        td.append(a.text.strip())\n",
    "    meta_fields = [v for k,v in enumerate(td[:36]) if (k % 3 == 0)]\n",
    "    meta_vals = [v for k,v in enumerate(td[2:38]) if (k % 3 == 0)]\n",
    "    kode_prodi = [v for k,v in enumerate(td[37:]) if (k % 8 == 0)]\n",
    "    nama_prodi = [v for k,v in enumerate(td[38:]) if (k % 8 == 0)]\n",
    "    status_prodi = [v for k,v in enumerate(td[39:]) if (k % 8 == 0)]\n",
    "    jenjang_prodi = [v for k,v in enumerate(td[40:]) if (k % 8 == 0)]\n",
    "    jmldosen = [v for k,v in enumerate(td[41:]) if (k % 8 == 0)]\n",
    "    jmlmhs = [v for k,v in enumerate(td[42:]) if (k % 8 == 0)]\n",
    "    #GET NAME\n",
    "    meta_vals = [v for k,v in enumerate(td[2:38]) if (k % 3 == 0)]\n",
    "    for k,v in enumerate(kode_prodi):\n",
    "        d = {}\n",
    "        d['kode'] = v\n",
    "        d['nama'] = nama_prodi[k]\n",
    "        d['status'] = status_prodi[k]\n",
    "        d['jenjang_prodi'] = jenjang_prodi[k]\n",
    "        d['jmldosen'] = jmldosen[k]\n",
    "        d['jmlmhs'] = jmlmhs[k]\n",
    "        d['univ'] = meta_vals[1]\n",
    "        d['kabkot'] = meta_vals[6]\n",
    "        arr.append(d)"
   ]
  },
  {
   "cell_type": "code",
   "execution_count": null,
   "metadata": {
    "collapsed": false
   },
   "outputs": [],
   "source": [
    "dfprodi = pd.DataFrame(arr)"
   ]
  },
  {
   "cell_type": "code",
   "execution_count": null,
   "metadata": {
    "collapsed": false
   },
   "outputs": [],
   "source": [
    "dfprodi.to_csv(\"proditop250.csv\")"
   ]
  },
  {
   "cell_type": "code",
   "execution_count": null,
   "metadata": {
    "collapsed": false
   },
   "outputs": [],
   "source": [
    "dfprodi['rcode'] = dfprodi['kode'].apply(lambda x : str(x)[:1])\n",
    "dfprodi['subcode'] = dfprodi['kode'].apply(lambda x : str(x)[:2])\n",
    "dfprodi['jmldosen'] = dfprodi['jmldosen'].apply(lambda x: int(x.replace(\".\",\"\")))\n",
    "dfprodi['jmlmhs'] = dfprodi['jmlmhs'].apply(lambda x: int(x.replace(\".\",\"\")))"
   ]
  },
  {
   "cell_type": "code",
   "execution_count": null,
   "metadata": {
    "collapsed": false
   },
   "outputs": [],
   "source": [
    "dfprodi.head(10)"
   ]
  },
  {
   "cell_type": "code",
   "execution_count": null,
   "metadata": {
    "collapsed": true
   },
   "outputs": [],
   "source": []
  }
 ],
 "metadata": {
  "anaconda-cloud": {},
  "kernelspec": {
   "display_name": "Python [Root]",
   "language": "python",
   "name": "Python [Root]"
  },
  "language_info": {
   "codemirror_mode": {
    "name": "ipython",
    "version": 3
   },
   "file_extension": ".py",
   "mimetype": "text/x-python",
   "name": "python",
   "nbconvert_exporter": "python",
   "pygments_lexer": "ipython3",
   "version": "3.5.2"
  }
 },
 "nbformat": 4,
 "nbformat_minor": 0
}
