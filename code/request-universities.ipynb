{
 "cells": [
  {
   "cell_type": "code",
   "execution_count": null,
   "metadata": {
    "collapsed": true
   },
   "outputs": [],
   "source": [
    "import requests\n",
    "from bs4 import BeautifulSoup\n",
    "import urllib\n",
    "import time\n",
    "import pandas as pd"
   ]
  },
  {
   "cell_type": "code",
   "execution_count": null,
   "metadata": {
    "collapsed": true
   },
   "outputs": [],
   "source": [
    "s = requests.Session()\n",
    "r = s.get('http://forlap.ristekdikti.go.id/perguruantinggi')"
   ]
  },
  {
   "cell_type": "code",
   "execution_count": null,
   "metadata": {
    "collapsed": false
   },
   "outputs": [],
   "source": [
    "jar = r.cookies"
   ]
  },
  {
   "cell_type": "markdown",
   "metadata": {},
   "source": [
    "**Important: ** Fill these variables with valid session cookies."
   ]
  },
  {
   "cell_type": "code",
   "execution_count": null,
   "metadata": {
    "collapsed": true
   },
   "outputs": [],
   "source": [
    "fgt = None\n",
    "phs = None\n",
    "fd = None"
   ]
  },
  {
   "cell_type": "code",
   "execution_count": null,
   "metadata": {
    "collapsed": false
   },
   "outputs": [],
   "source": [
    "jar.set('FORLAPDIKTI',fd,domain='forlap.ristekdikti.go.id',path='/perguruantinggi')\n",
    "jar.set('PHPSESSID',phs,domain='forlap.ristekdikti.go.id',path='/perguruantinggi')\n",
    "jar.set('FGTServer',fgt,domain='forlap.ristekdikti.go.id',path='/perguruantinggi')"
   ]
  },
  {
   "cell_type": "code",
   "execution_count": null,
   "metadata": {
    "collapsed": false
   },
   "outputs": [],
   "source": [
    "r = requests.get('http://forlap.ristekdikti.go.id/perguruantinggi/search',cookies=jar)"
   ]
  },
  {
   "cell_type": "code",
   "execution_count": null,
   "metadata": {
    "collapsed": false
   },
   "outputs": [],
   "source": [
    "soup = BeautifulSoup(r.content)"
   ]
  },
  {
   "cell_type": "code",
   "execution_count": null,
   "metadata": {
    "collapsed": false
   },
   "outputs": [],
   "source": [
    "#Initiatilize empty list\n",
    "arr = []"
   ]
  },
  {
   "cell_type": "code",
   "execution_count": null,
   "metadata": {
    "collapsed": false
   },
   "outputs": [],
   "source": [
    "for tt in soup.find_all(\"tr\",class_=\"ttop\"):\n",
    "    d = {}\n",
    "    d['id'] = tt.contents[3].text.strip()\n",
    "    d['name'] = tt.contents[5].text\n",
    "    d['url'] = tt.contents[5].a.get('href')\n",
    "    d['prov'] = tt.contents[7].text.strip()\n",
    "    d['cat'] = tt.contents[9].text.strip()\n",
    "    d['mhs'] = int(tt.contents[15].text.strip().replace(\".\",\"\"))\n",
    "    d['dosen'] = int(tt.contents[13].text.strip().replace(\".\",\"\"))\n",
    "    arr.append(d)"
   ]
  },
  {
   "cell_type": "code",
   "execution_count": null,
   "metadata": {
    "collapsed": false
   },
   "outputs": [],
   "source": [
    "START_PAGE = 20\n",
    "END_PAGE = 4980\n",
    "BASE_URL = \"http://forlap.ristekdikti.go.id/perguruantinggi/search/\""
   ]
  },
  {
   "cell_type": "code",
   "execution_count": null,
   "metadata": {
    "collapsed": false
   },
   "outputs": [],
   "source": [
    "for pagenum in range(START_PAGE,END_PAGE+20,20):\n",
    "    URL = BASE_URL+str(pagenum)\n",
    "    print(\"Current page: \"+URL)\n",
    "    r = requests.get(URL,cookies=jar)\n",
    "    soup = BeautifulSoup(r.content)\n",
    "    for tt in soup.find_all(\"tr\",class_=\"ttop\"):\n",
    "        d = {}\n",
    "        d['id'] = tt.contents[3].text.strip()\n",
    "        d['name'] = tt.contents[5].text\n",
    "        d['url'] = tt.contents[5].a.get('href')\n",
    "        d['prov'] = tt.contents[7].text.strip()\n",
    "        d['cat'] = tt.contents[9].text.strip()\n",
    "        d['mhs'] = int(tt.contents[15].text.strip().replace(\".\",\"\"))\n",
    "        d['dosen'] = int(tt.contents[13].text.strip().replace(\".\",\"\"))\n",
    "        arr.append(d)"
   ]
  },
  {
   "cell_type": "code",
   "execution_count": null,
   "metadata": {
    "collapsed": false
   },
   "outputs": [],
   "source": [
    "len(arr)"
   ]
  },
  {
   "cell_type": "code",
   "execution_count": null,
   "metadata": {
    "collapsed": false
   },
   "outputs": [],
   "source": [
    "df = pd.DataFrame(arr)"
   ]
  },
  {
   "cell_type": "code",
   "execution_count": null,
   "metadata": {
    "collapsed": false
   },
   "outputs": [],
   "source": [
    "df.head(10)"
   ]
  },
  {
   "cell_type": "code",
   "execution_count": null,
   "metadata": {
    "collapsed": true
   },
   "outputs": [],
   "source": [
    "df.to_csv(\"forlapbase.csv\")"
   ]
  }
 ],
 "metadata": {
  "kernelspec": {
   "display_name": "Python [Root]",
   "language": "python",
   "name": "Python [Root]"
  },
  "language_info": {
   "codemirror_mode": {
    "name": "ipython",
    "version": 3
   },
   "file_extension": ".py",
   "mimetype": "text/x-python",
   "name": "python",
   "nbconvert_exporter": "python",
   "pygments_lexer": "ipython3",
   "version": "3.5.2"
  }
 },
 "nbformat": 4,
 "nbformat_minor": 0
}
